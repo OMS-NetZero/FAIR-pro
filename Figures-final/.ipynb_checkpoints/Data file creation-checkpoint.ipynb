{
 "cells": [
  {
   "cell_type": "code",
   "execution_count": 4,
   "metadata": {
    "collapsed": true
   },
   "outputs": [],
   "source": [
    "#creates database to contain all outputs we could need for future plotting. \n",
    "#concs, temps, RFs, emmissions, CO2_fe emms for both MAGICC and FAIR params\n",
    "\n",
    "\n",
    "#MAKE IT BOTH ADDING AND DIFFERENCING!!!!!\n",
    "#REMOVE PLOTTING SECTION EVENTUALLY\n",
    "#ADD OTHER DATAFILES EG RCP85"
   ]
  },
  {
   "cell_type": "code",
   "execution_count": 3,
   "metadata": {
    "collapsed": false
   },
   "outputs": [
    {
     "ename": "ImportError",
     "evalue": "No module named fair_inverse_model",
     "output_type": "error",
     "traceback": [
      "\u001b[0;31m---------------------------------------------------------------------------\u001b[0m",
      "\u001b[0;31mImportError\u001b[0m                               Traceback (most recent call last)",
      "\u001b[0;32m<ipython-input-3-99a03ab76559>\u001b[0m in \u001b[0;36m<module>\u001b[0;34m()\u001b[0m\n\u001b[1;32m     21\u001b[0m \u001b[0;34m\u001b[0m\u001b[0m\n\u001b[1;32m     22\u001b[0m \u001b[0;32mimport\u001b[0m \u001b[0mfair\u001b[0m\u001b[0;34m\u001b[0m\u001b[0m\n\u001b[0;32m---> 23\u001b[0;31m \u001b[0;32mfrom\u001b[0m \u001b[0mfair\u001b[0m\u001b[0;34m.\u001b[0m\u001b[0mfair_inverse_model\u001b[0m \u001b[0;32mimport\u001b[0m \u001b[0mco2_conc_total\u001b[0m \u001b[0;32mas\u001b[0m \u001b[0mrf_to_conc\u001b[0m\u001b[0;34m\u001b[0m\u001b[0m\n\u001b[0m\u001b[1;32m     24\u001b[0m \u001b[0;32mfrom\u001b[0m \u001b[0mfair\u001b[0m\u001b[0;34m.\u001b[0m\u001b[0mfair_inverse_model\u001b[0m \u001b[0;32mimport\u001b[0m \u001b[0mannual_emissions_calc2\u001b[0m \u001b[0;32mas\u001b[0m \u001b[0mconc_to_emissions\u001b[0m\u001b[0;34m\u001b[0m\u001b[0m\n\u001b[1;32m     25\u001b[0m \u001b[0;32mfrom\u001b[0m \u001b[0mfair\u001b[0m\u001b[0;34m.\u001b[0m\u001b[0mforward_multiple_GHG\u001b[0m \u001b[0;32mimport\u001b[0m \u001b[0mfair_scm\u001b[0m \u001b[0;32mas\u001b[0m \u001b[0mFAIR_model\u001b[0m\u001b[0;34m\u001b[0m\u001b[0m\n",
      "\u001b[0;31mImportError\u001b[0m: No module named fair_inverse_model"
     ]
    }
   ],
   "source": [
    "#Imports and Setup\n",
    "\n",
    "import numpy as np\n",
    "import pandas as pd\n",
    "import scipy as sp\n",
    "from scipy.ndimage.filters import gaussian_filter as smooth\n",
    "\n",
    "\n",
    "#REMOVE EVENTUALLY\n",
    "%matplotlib inline\n",
    "from matplotlib import pyplot as plt\n",
    "plt.rcParams['figure.figsize'] = 16, 9\n",
    "plt.rcParams['lines.linewidth'] = 3\n",
    "\n",
    "font = {'weight' : 'normal',\n",
    "      'size'   : 17}\n",
    "\n",
    "plt.rc('font', **font)\n",
    "#--------------\n",
    "\n",
    "\n",
    "import fair\n",
    "from fair.fair_inverse_model import co2_conc_total as rf_to_conc\n",
    "from fair.fair_inverse_model import annual_emissions_calc2 as conc_to_emissions\n",
    "from fair.forward_multiple_GHG import fair_scm as FAIR_model\n",
    "fair.__version__"
   ]
  },
  {
   "cell_type": "code",
   "execution_count": null,
   "metadata": {
    "collapsed": true
   },
   "outputs": [],
   "source": [
    "#IMPORT DATA FROM RCP3PD DATAFILES\n",
    "\n",
    "emms_file = './fair/RCPs/RCP3PD_EMISSIONS.csv'\n",
    "emms_data = np.genfromtxt(emms_file,skip_header=36,delimiter=',',names=True)\n",
    "\n",
    "emissions = emms_data['FossilCO2'] + emms_data['OtherCO2']\n",
    "M_emissions = emms_data['CH4']\n",
    "N_emissions = emms_data['N2O'] * 44.0 / 28.0 * 0.73\n",
    "\n",
    "concs_filem = './fair/GCP_data/RCP3PD_MIDYEAR_CONCENTRATIONS.csv'\n",
    "concs_datam = np.genfromtxt(concs_filem,skip_header=37,delimiter=',',names=True)\n",
    "M_concs = concs_datam['CH4']\n",
    "N_concs = concs_datam['N2O']\n",
    "concs = concs_datam['CO2']\n",
    "\n",
    "forc_file = './fair/RCPs/RCP3PD_MIDYEAR_RADFORCING.csv'\n",
    "forc_data = np.genfromtxt(forc_file,skip_header=58,delimiter=',',names=True)\n",
    "other_rf = forc_data['TOTAL_ANTHRO_RF'] - forc_data['CO2_RF'] - forc_data['CH4_RF'] - forc_data['N2O_RF']\n"
   ]
  },
  {
   "cell_type": "code",
   "execution_count": 3,
   "metadata": {
    "collapsed": false
   },
   "outputs": [
    {
     "ename": "NameError",
     "evalue": "name 'FAIR_model' is not defined",
     "output_type": "error",
     "traceback": [
      "\u001b[0;31m---------------------------------------------------------------------------\u001b[0m",
      "\u001b[0;31mNameError\u001b[0m                                 Traceback (most recent call last)",
      "\u001b[0;32m<ipython-input-3-6b0f085b1f1a>\u001b[0m in \u001b[0;36m<module>\u001b[0;34m()\u001b[0m\n\u001b[1;32m      4\u001b[0m \u001b[0;34m\u001b[0m\u001b[0m\n\u001b[1;32m      5\u001b[0m \u001b[0;31m#total\u001b[0m\u001b[0;34m\u001b[0m\u001b[0;34m\u001b[0m\u001b[0m\n\u001b[0;32m----> 6\u001b[0;31m out_total_add_fair = FAIR_model(emissions=emissions,M_emissions=M_emissions,N_emissions = N_emissions,\n\u001b[0m\u001b[1;32m      7\u001b[0m                             \u001b[0mother_rf\u001b[0m\u001b[0;34m=\u001b[0m\u001b[0mother_rf\u001b[0m\u001b[0;34m,\u001b[0m\u001b[0mN_0\u001b[0m\u001b[0;34m=\u001b[0m\u001b[0;36m270.0\u001b[0m\u001b[0;34m,\u001b[0m\u001b[0mMAGICC_model\u001b[0m \u001b[0;34m=\u001b[0m \u001b[0mTrue\u001b[0m\u001b[0;34m,\u001b[0m\u001b[0;34m\u001b[0m\u001b[0m\n\u001b[1;32m      8\u001b[0m                             S_OH_CH4 = -0.32, S_T_CH4 = 0.035, tau_M_0 = 9.0)\n",
      "\u001b[0;31mNameError\u001b[0m: name 'FAIR_model' is not defined"
     ]
    }
   ],
   "source": [
    "### ---- ADDING using FAIR STANDARD parameters ----\n",
    "\n",
    "# Calculate the concs, temps, RFs and emissions\n",
    "\n",
    "#total\n",
    "out_total_add_fair = FAIR_model(emissions=emissions,M_emissions=M_emissions,N_emissions = N_emissions,\n",
    "                            other_rf=other_rf,N_0=270.0,MAGICC_model = True,\n",
    "                            S_OH_CH4 = -0.32, S_T_CH4 = 0.035, tau_M_0 = 9.0)\n",
    "\n",
    "#just CO2\n",
    "out_co2_add_fair = FAIR_model(emissions=emissions,MAGICC_model = True)\n",
    "\n",
    "#just CH4\n",
    "out_ch4_add_fair = FAIR_model(other_rf = np.zeros(emissions.size),M_emissions=M_emissions,\n",
    "                     N_0=270.0,MAGICC_model = True,S_OH_CH4 = -0.32, \n",
    "                     S_T_CH4 = 0.035, tau_M_0 = 9.0)\n",
    "\n",
    "#just N2O\n",
    "out_n2o_add_fair = FAIR_model(other_rf = np.zeros(emissions.size),N_emissions=N_emissions,\n",
    "                     N_0=270.0,MAGICC_model = True,S_OH_CH4 = -0.32, \n",
    "                     S_T_CH4 = 0.035, tau_M_0 = 9.0)\n",
    "\n",
    "#just other\n",
    "out_other_add_fair = FAIR_model(other_rf = other_rf,N_0=270.0,MAGICC_model = True,\n",
    "                       S_OH_CH4 = -0.32, S_T_CH4 = 0.035, tau_M_0 = 9.0)\n",
    "    \n",
    "#anthro total from RCP3 RF datafile    \n",
    "out_anthro_0_add_fair = FAIR_model(other_rf=forc_data['TOTAL_ANTHRO_RF'],\n",
    "                          N_0=270.0,MAGICC_model = True,S_OH_CH4 = -0.32, \n",
    "                          S_T_CH4 = 0.035, tau_M_0 = 9.0)\n",
    "\n",
    "# NB. the \"0\" signifier represents radiative forcings entirely NOT calculated by fair (ie. from RCP only)\n",
    "\n",
    "#smoothing\n",
    "ANTHRO_RF_0_add_fair = smooth(out_anthro_0_add_fair['forcing']['total'],5)\n",
    "ANTHRO_RF_add_fair = smooth(out_total_add_fair['forcing']['total'],5)\n",
    "CH4_RF_add_fair = smooth(out_ch4_add_fair['forcing']['total'],5)\n",
    "N2O_RF_add_fair = smooth(out_n2o_add_fair['forcing']['total'],5)\n",
    "CO2_RF_add_fair = smooth(out_co2_add_fair['forcing']['total'],5)\n",
    "other_RF_add_fair = smooth(out_other_add_fair['forcing']['total'],5)\n",
    "#concentrations\n",
    "ANTHRO_conc_add_fair = rf_to_conc(ANTHRO_RF_add_fair)\n",
    "CH4_conc_add_fair = rf_to_conc(CH4_RF_add_fair)\n",
    "CO2_conc_add_fair = rf_to_conc(CO2_RF_add_fair)\n",
    "N2O_conc_add_fair = rf_to_conc(N2O_RF_add_fair)\n",
    "other_conc_add_fair = rf_to_conc(other_RF_add_fair)\n",
    "ANTHRO_conc_0_add_fair = rf_to_conc(ANTHRO_RF_0_add_fair)\n",
    "#co2-fe emissions\n",
    "anthro_CO2_fe_emms_add_fair = conc_to_emissions(ANTHRO_conc_add_fair,out_total_add_fair['temperature']['total'],year_smoothing=0)* 44./12.\n",
    "CH4_CO2_fe_emms_add_fair = conc_to_emissions(CH4_conc_add_fair,out_ch4_add_fair['temperature']['total'],year_smoothing=0)* 44./12.\n",
    "CO2_CO2_fe_emms_add_fair = conc_to_emissions(CO2_conc_add_fair,out_co2_add_fair['temperature']['total'],year_smoothing=0)* 44./12.\n",
    "N2O_CO2_fe_emms_add_fair = conc_to_emissions(N2O_conc_add_fair,out_n2o_add_fair['temperature']['total'],year_smoothing=0)* 44./12.\n",
    "other_CO2_fe_emms_add_fair = conc_to_emissions(other_conc_add_fair,out_other_add_fair['temperature']['total'],year_smoothing=0)* 44./12.\n",
    "anthro_CO2_fe_emms_0_add_fair = conc_to_emissions(ANTHRO_conc_0_add_fair,out_anthro_0_add_fair['temperature']['total'],year_smoothing=0)* 44./12.\n",
    "\n",
    "\n",
    "# Creating the dictionaries to then be nested within one output\n",
    "emissions_add_fair = {'CO2' : CO2_CO2_fe_emms_add_fair, 'CH4' : CH4_CO2_fe_emms_add_fair, 'N2O' : N2O_CO2_fe_emms_add_fair, \n",
    "                          'other' : other_CO2_fe_emms_add_fair, 'total' : anthro_CO2_fe_emms_add_fair, 'amthro_0' : anthro_CO2_fe_emms_0_add_fair}\n",
    "    \n",
    "concentration_add_fair = {'CO2' : CO2_conc_add_fair, 'CH4' : CH4_conc_add_fair, 'N2O' : N2O_conc_add_fair, \n",
    "                              'other' : other_conc_add_fair, 'total' : ANTHRO_conc_add_fair, 'amthro_0' : ANTHRO_conc_0_add_fair}\n",
    "    \n",
    "forcing_add_fair = {'total' : ANTHRO_RF_add_fair, 'other' : other_RF_add_fair, 'CO2' : CO2_RF_add_fair, \n",
    "                        'CH4' : CH4_RF_add_fair, 'N2O' : N2O_RF_add_fair, 'anthro_0' : ANTHRO_RF_0_add_fair}\n",
    "    \n",
    "temperature_add_fair = {'total' : out_total_add_fair['temperature']['total'], 'other' : out_other_add_fair['temperature']['total'], 'CO2' : out_co2_add_fair['temperature']['total'], \n",
    "                            'CH4' : out_ch4_add_fair['temperature']['total'], 'N2O' : out_n2o_add_fair['temperature']['total'], 'anthro_0' : out_anthro_0_add_fair['temperature']['total']}\n",
    "    \n",
    "# Create the output dictionary\n",
    "output = {'emissions' : emissions_add_fair , 'concentration' : concentration_add_fair , 'forcing' : forcing_add_fair , 'temperature' : temperature_add_fair} "
   ]
  },
  {
   "cell_type": "code",
   "execution_count": null,
   "metadata": {
    "collapsed": true
   },
   "outputs": [],
   "source": []
  },
  {
   "cell_type": "code",
   "execution_count": null,
   "metadata": {
    "collapsed": true
   },
   "outputs": [],
   "source": []
  }
 ],
 "metadata": {
  "kernelspec": {
   "display_name": "Python 2",
   "language": "python",
   "name": "python2"
  },
  "language_info": {
   "codemirror_mode": {
    "name": "ipython",
    "version": 2
   },
   "file_extension": ".py",
   "mimetype": "text/x-python",
   "name": "python",
   "nbconvert_exporter": "python",
   "pygments_lexer": "ipython2",
   "version": "2.7.13"
  }
 },
 "nbformat": 4,
 "nbformat_minor": 2
}
