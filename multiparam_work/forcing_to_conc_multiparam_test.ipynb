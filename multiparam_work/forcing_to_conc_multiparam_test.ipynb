{
 "cells": [
  {
   "cell_type": "code",
   "execution_count": 1,
   "metadata": {
    "collapsed": true
   },
   "outputs": [],
   "source": [
    "import numpy as np\n",
    "\n",
    "%matplotlib inline\n",
    "from matplotlib import pyplot as plt\n",
    "plt.rcParams['figure.figsize'] = 14, 10\n",
    "plt.rcParams['lines.linewidth'] = 1.5\n",
    "\n",
    "font = {'weight' : 'normal',\n",
    "      'size'   : 15}\n",
    "\n",
    "plt.rc('font', **font)"
   ]
  },
  {
   "cell_type": "code",
   "execution_count": 2,
   "metadata": {
    "collapsed": true
   },
   "outputs": [],
   "source": [
    "#multi param and multi forcing method\n",
    "\n",
    "def forcing_to_conc(RF_in, \n",
    "                   RF_ext = None, \n",
    "                   RF_ext_in = False,\n",
    "                   param_array = np.array([5.396,278.])):\n",
    "    \n",
    "   # --- PARAMETERS ---\n",
    "    #param_array,\n",
    "        # 1) a = logarithmic forcing efficacy in W/m-2/alog(2). Default = 5.396 W/m^2\n",
    "        # 2) Cpreind = preindustrial CO2 concentration in ppmv (278.)\n",
    "    # RF_ext = external radaitive forcing profile which contributes but shouldn't add to the equivalent CO2 concentrations\n",
    "    # RE_ext_in = boolean, allows user to include or not include the contribution to RF of other (non-anthropogenic) sources\n",
    "   #---  ----  ---  ---\n",
    "    \n",
    "   #Initializing parameters\n",
    "    a = param_array[...,0]\n",
    "    C_preind = param_array[...,1]\n",
    "    if RF_in.ndim == 1:\n",
    "        rf_dim = 1\n",
    "        RF_in = RF_in[np.newaxis]\n",
    "    else:\n",
    "        rf_dim = RF_in.shape[0]\n",
    "    \n",
    "   # Initializing arrays\n",
    "    # Create array to hold concentration values\n",
    "    C = np.zeros((RF_in.shape[0],a.size, RF_in.shape[-1]))\n",
    "    \n",
    "    # Check inputs are of the same size if external forcing data is also provided\n",
    "    if RF_ext_in == True:\n",
    "        if RF_in.shape != RF_ext.shape:\n",
    "            print 'The inputs RF_in and RF_ext are not of the same shape!'\n",
    "    elif RF_ext_in == False:\n",
    "        RF_ext = np.zeros(RF_in.shape)\n",
    "    \n",
    "   # Compute required co2 concentration to produce inputted logarithmic forcing\n",
    "    for i in range(0, RF_in.shape[-1]):\n",
    "        C[...,i]=np.exp((RF_in[:,np.newaxis,i]-RF_ext[:,np.newaxis,i])/a)*C_preind\n",
    "    \n",
    "    return C"
   ]
  },
  {
   "cell_type": "code",
   "execution_count": 3,
   "metadata": {
    "collapsed": false
   },
   "outputs": [
    {
     "ename": "SyntaxError",
     "evalue": "'return' outside function (<ipython-input-3-5277c578dc79>, line 3)",
     "output_type": "error",
     "traceback": [
      "\u001b[0;36m  File \u001b[0;32m\"<ipython-input-3-5277c578dc79>\"\u001b[0;36m, line \u001b[0;32m3\u001b[0m\n\u001b[0;31m    return C[0,0,:]\u001b[0m\n\u001b[0;31mSyntaxError\u001b[0m\u001b[0;31m:\u001b[0m 'return' outside function\n"
     ]
    }
   ],
   "source": [
    "    if C.shape[1] == 1:\n",
    "        if C.shape[0] == 1:\n",
    "            return C[0,0,:]\n",
    "        else:\n",
    "            return C[:,0,:]\n",
    "    elif C.shape[0] == 1:\n",
    "        return C[0,:,:]\n",
    "    else:\n",
    "        return C"
   ]
  },
  {
   "cell_type": "code",
   "execution_count": 5,
   "metadata": {
    "collapsed": false
   },
   "outputs": [
    {
     "ename": "ValueError",
     "evalue": "x and y must have same first dimension, but have shapes (267,) and (1, 267)",
     "output_type": "error",
     "traceback": [
      "\u001b[0;31m---------------------------------------------------------------------------\u001b[0m",
      "\u001b[0;31mValueError\u001b[0m                                Traceback (most recent call last)",
      "\u001b[0;32m<ipython-input-5-8e43fd363245>\u001b[0m in \u001b[0;36m<module>\u001b[0;34m()\u001b[0m\n\u001b[1;32m      8\u001b[0m \u001b[0;34m\u001b[0m\u001b[0m\n\u001b[1;32m      9\u001b[0m \u001b[0;32mfor\u001b[0m \u001b[0mi\u001b[0m \u001b[0;32min\u001b[0m \u001b[0mrange\u001b[0m\u001b[0;34m(\u001b[0m\u001b[0mC\u001b[0m\u001b[0;34m.\u001b[0m\u001b[0mshape\u001b[0m\u001b[0;34m[\u001b[0m\u001b[0;36m0\u001b[0m\u001b[0;34m]\u001b[0m\u001b[0;34m)\u001b[0m\u001b[0;34m:\u001b[0m\u001b[0;34m\u001b[0m\u001b[0m\n\u001b[0;32m---> 10\u001b[0;31m     \u001b[0mplt\u001b[0m\u001b[0;34m.\u001b[0m\u001b[0mplot\u001b[0m\u001b[0;34m(\u001b[0m\u001b[0mnp\u001b[0m\u001b[0;34m.\u001b[0m\u001b[0marange\u001b[0m\u001b[0;34m(\u001b[0m\u001b[0;36m1750\u001b[0m\u001b[0;34m,\u001b[0m\u001b[0;36m2017\u001b[0m\u001b[0;34m)\u001b[0m\u001b[0;34m,\u001b[0m \u001b[0mC\u001b[0m\u001b[0;34m[\u001b[0m\u001b[0mi\u001b[0m\u001b[0;34m,\u001b[0m\u001b[0;34m:\u001b[0m\u001b[0;34m]\u001b[0m\u001b[0;34m,\u001b[0m \u001b[0mlinewidth\u001b[0m \u001b[0;34m=\u001b[0m \u001b[0;36m0.1\u001b[0m\u001b[0;34m,\u001b[0m \u001b[0mcolor\u001b[0m \u001b[0;34m=\u001b[0m \u001b[0;34m'royalblue'\u001b[0m\u001b[0;34m)\u001b[0m\u001b[0;34m\u001b[0m\u001b[0m\n\u001b[0m\u001b[1;32m     11\u001b[0m \u001b[0;34m\u001b[0m\u001b[0m\n\u001b[1;32m     12\u001b[0m \u001b[0mC_median\u001b[0m \u001b[0;34m=\u001b[0m \u001b[0mforcing_to_conc\u001b[0m\u001b[0;34m(\u001b[0m\u001b[0mrf_anthro_piers\u001b[0m\u001b[0;34m[\u001b[0m\u001b[0;36m90\u001b[0m\u001b[0;34m,\u001b[0m\u001b[0;34m:\u001b[0m\u001b[0;34m]\u001b[0m\u001b[0;34m)\u001b[0m\u001b[0;34m\u001b[0m\u001b[0m\n",
      "\u001b[0;32m/Users/Stuart/anaconda/lib/python2.7/site-packages/matplotlib/pyplot.pyc\u001b[0m in \u001b[0;36mplot\u001b[0;34m(*args, **kwargs)\u001b[0m\n\u001b[1;32m   3316\u001b[0m                       mplDeprecation)\n\u001b[1;32m   3317\u001b[0m     \u001b[0;32mtry\u001b[0m\u001b[0;34m:\u001b[0m\u001b[0;34m\u001b[0m\u001b[0m\n\u001b[0;32m-> 3318\u001b[0;31m         \u001b[0mret\u001b[0m \u001b[0;34m=\u001b[0m \u001b[0max\u001b[0m\u001b[0;34m.\u001b[0m\u001b[0mplot\u001b[0m\u001b[0;34m(\u001b[0m\u001b[0;34m*\u001b[0m\u001b[0margs\u001b[0m\u001b[0;34m,\u001b[0m \u001b[0;34m**\u001b[0m\u001b[0mkwargs\u001b[0m\u001b[0;34m)\u001b[0m\u001b[0;34m\u001b[0m\u001b[0m\n\u001b[0m\u001b[1;32m   3319\u001b[0m     \u001b[0;32mfinally\u001b[0m\u001b[0;34m:\u001b[0m\u001b[0;34m\u001b[0m\u001b[0m\n\u001b[1;32m   3320\u001b[0m         \u001b[0max\u001b[0m\u001b[0;34m.\u001b[0m\u001b[0m_hold\u001b[0m \u001b[0;34m=\u001b[0m \u001b[0mwashold\u001b[0m\u001b[0;34m\u001b[0m\u001b[0m\n",
      "\u001b[0;32m/Users/Stuart/anaconda/lib/python2.7/site-packages/matplotlib/__init__.pyc\u001b[0m in \u001b[0;36minner\u001b[0;34m(ax, *args, **kwargs)\u001b[0m\n\u001b[1;32m   1890\u001b[0m                     warnings.warn(msg % (label_namer, func.__name__),\n\u001b[1;32m   1891\u001b[0m                                   RuntimeWarning, stacklevel=2)\n\u001b[0;32m-> 1892\u001b[0;31m             \u001b[0;32mreturn\u001b[0m \u001b[0mfunc\u001b[0m\u001b[0;34m(\u001b[0m\u001b[0max\u001b[0m\u001b[0;34m,\u001b[0m \u001b[0;34m*\u001b[0m\u001b[0margs\u001b[0m\u001b[0;34m,\u001b[0m \u001b[0;34m**\u001b[0m\u001b[0mkwargs\u001b[0m\u001b[0;34m)\u001b[0m\u001b[0;34m\u001b[0m\u001b[0m\n\u001b[0m\u001b[1;32m   1893\u001b[0m         \u001b[0mpre_doc\u001b[0m \u001b[0;34m=\u001b[0m \u001b[0minner\u001b[0m\u001b[0;34m.\u001b[0m\u001b[0m__doc__\u001b[0m\u001b[0;34m\u001b[0m\u001b[0m\n\u001b[1;32m   1894\u001b[0m         \u001b[0;32mif\u001b[0m \u001b[0mpre_doc\u001b[0m \u001b[0;32mis\u001b[0m \u001b[0mNone\u001b[0m\u001b[0;34m:\u001b[0m\u001b[0;34m\u001b[0m\u001b[0m\n",
      "\u001b[0;32m/Users/Stuart/anaconda/lib/python2.7/site-packages/matplotlib/axes/_axes.pyc\u001b[0m in \u001b[0;36mplot\u001b[0;34m(self, *args, **kwargs)\u001b[0m\n\u001b[1;32m   1404\u001b[0m         \u001b[0mkwargs\u001b[0m \u001b[0;34m=\u001b[0m \u001b[0mcbook\u001b[0m\u001b[0;34m.\u001b[0m\u001b[0mnormalize_kwargs\u001b[0m\u001b[0;34m(\u001b[0m\u001b[0mkwargs\u001b[0m\u001b[0;34m,\u001b[0m \u001b[0m_alias_map\u001b[0m\u001b[0;34m)\u001b[0m\u001b[0;34m\u001b[0m\u001b[0m\n\u001b[1;32m   1405\u001b[0m \u001b[0;34m\u001b[0m\u001b[0m\n\u001b[0;32m-> 1406\u001b[0;31m         \u001b[0;32mfor\u001b[0m \u001b[0mline\u001b[0m \u001b[0;32min\u001b[0m \u001b[0mself\u001b[0m\u001b[0;34m.\u001b[0m\u001b[0m_get_lines\u001b[0m\u001b[0;34m(\u001b[0m\u001b[0;34m*\u001b[0m\u001b[0margs\u001b[0m\u001b[0;34m,\u001b[0m \u001b[0;34m**\u001b[0m\u001b[0mkwargs\u001b[0m\u001b[0;34m)\u001b[0m\u001b[0;34m:\u001b[0m\u001b[0;34m\u001b[0m\u001b[0m\n\u001b[0m\u001b[1;32m   1407\u001b[0m             \u001b[0mself\u001b[0m\u001b[0;34m.\u001b[0m\u001b[0madd_line\u001b[0m\u001b[0;34m(\u001b[0m\u001b[0mline\u001b[0m\u001b[0;34m)\u001b[0m\u001b[0;34m\u001b[0m\u001b[0m\n\u001b[1;32m   1408\u001b[0m             \u001b[0mlines\u001b[0m\u001b[0;34m.\u001b[0m\u001b[0mappend\u001b[0m\u001b[0;34m(\u001b[0m\u001b[0mline\u001b[0m\u001b[0;34m)\u001b[0m\u001b[0;34m\u001b[0m\u001b[0m\n",
      "\u001b[0;32m/Users/Stuart/anaconda/lib/python2.7/site-packages/matplotlib/axes/_base.pyc\u001b[0m in \u001b[0;36m_grab_next_args\u001b[0;34m(self, *args, **kwargs)\u001b[0m\n\u001b[1;32m    405\u001b[0m                 \u001b[0;32mreturn\u001b[0m\u001b[0;34m\u001b[0m\u001b[0m\n\u001b[1;32m    406\u001b[0m             \u001b[0;32mif\u001b[0m \u001b[0mlen\u001b[0m\u001b[0;34m(\u001b[0m\u001b[0mremaining\u001b[0m\u001b[0;34m)\u001b[0m \u001b[0;34m<=\u001b[0m \u001b[0;36m3\u001b[0m\u001b[0;34m:\u001b[0m\u001b[0;34m\u001b[0m\u001b[0m\n\u001b[0;32m--> 407\u001b[0;31m                 \u001b[0;32mfor\u001b[0m \u001b[0mseg\u001b[0m \u001b[0;32min\u001b[0m \u001b[0mself\u001b[0m\u001b[0;34m.\u001b[0m\u001b[0m_plot_args\u001b[0m\u001b[0;34m(\u001b[0m\u001b[0mremaining\u001b[0m\u001b[0;34m,\u001b[0m \u001b[0mkwargs\u001b[0m\u001b[0;34m)\u001b[0m\u001b[0;34m:\u001b[0m\u001b[0;34m\u001b[0m\u001b[0m\n\u001b[0m\u001b[1;32m    408\u001b[0m                     \u001b[0;32myield\u001b[0m \u001b[0mseg\u001b[0m\u001b[0;34m\u001b[0m\u001b[0m\n\u001b[1;32m    409\u001b[0m                 \u001b[0;32mreturn\u001b[0m\u001b[0;34m\u001b[0m\u001b[0m\n",
      "\u001b[0;32m/Users/Stuart/anaconda/lib/python2.7/site-packages/matplotlib/axes/_base.pyc\u001b[0m in \u001b[0;36m_plot_args\u001b[0;34m(self, tup, kwargs)\u001b[0m\n\u001b[1;32m    383\u001b[0m             \u001b[0mx\u001b[0m\u001b[0;34m,\u001b[0m \u001b[0my\u001b[0m \u001b[0;34m=\u001b[0m \u001b[0mindex_of\u001b[0m\u001b[0;34m(\u001b[0m\u001b[0mtup\u001b[0m\u001b[0;34m[\u001b[0m\u001b[0;34m-\u001b[0m\u001b[0;36m1\u001b[0m\u001b[0;34m]\u001b[0m\u001b[0;34m)\u001b[0m\u001b[0;34m\u001b[0m\u001b[0m\n\u001b[1;32m    384\u001b[0m \u001b[0;34m\u001b[0m\u001b[0m\n\u001b[0;32m--> 385\u001b[0;31m         \u001b[0mx\u001b[0m\u001b[0;34m,\u001b[0m \u001b[0my\u001b[0m \u001b[0;34m=\u001b[0m \u001b[0mself\u001b[0m\u001b[0;34m.\u001b[0m\u001b[0m_xy_from_xy\u001b[0m\u001b[0;34m(\u001b[0m\u001b[0mx\u001b[0m\u001b[0;34m,\u001b[0m \u001b[0my\u001b[0m\u001b[0;34m)\u001b[0m\u001b[0;34m\u001b[0m\u001b[0m\n\u001b[0m\u001b[1;32m    386\u001b[0m \u001b[0;34m\u001b[0m\u001b[0m\n\u001b[1;32m    387\u001b[0m         \u001b[0;32mif\u001b[0m \u001b[0mself\u001b[0m\u001b[0;34m.\u001b[0m\u001b[0mcommand\u001b[0m \u001b[0;34m==\u001b[0m \u001b[0;34m'plot'\u001b[0m\u001b[0;34m:\u001b[0m\u001b[0;34m\u001b[0m\u001b[0m\n",
      "\u001b[0;32m/Users/Stuart/anaconda/lib/python2.7/site-packages/matplotlib/axes/_base.pyc\u001b[0m in \u001b[0;36m_xy_from_xy\u001b[0;34m(self, x, y)\u001b[0m\n\u001b[1;32m    242\u001b[0m         \u001b[0;32mif\u001b[0m \u001b[0mx\u001b[0m\u001b[0;34m.\u001b[0m\u001b[0mshape\u001b[0m\u001b[0;34m[\u001b[0m\u001b[0;36m0\u001b[0m\u001b[0;34m]\u001b[0m \u001b[0;34m!=\u001b[0m \u001b[0my\u001b[0m\u001b[0;34m.\u001b[0m\u001b[0mshape\u001b[0m\u001b[0;34m[\u001b[0m\u001b[0;36m0\u001b[0m\u001b[0;34m]\u001b[0m\u001b[0;34m:\u001b[0m\u001b[0;34m\u001b[0m\u001b[0m\n\u001b[1;32m    243\u001b[0m             raise ValueError(\"x and y must have same first dimension, but \"\n\u001b[0;32m--> 244\u001b[0;31m                              \"have shapes {} and {}\".format(x.shape, y.shape))\n\u001b[0m\u001b[1;32m    245\u001b[0m         \u001b[0;32mif\u001b[0m \u001b[0mx\u001b[0m\u001b[0;34m.\u001b[0m\u001b[0mndim\u001b[0m \u001b[0;34m>\u001b[0m \u001b[0;36m2\u001b[0m \u001b[0;32mor\u001b[0m \u001b[0my\u001b[0m\u001b[0;34m.\u001b[0m\u001b[0mndim\u001b[0m \u001b[0;34m>\u001b[0m \u001b[0;36m2\u001b[0m\u001b[0;34m:\u001b[0m\u001b[0;34m\u001b[0m\u001b[0m\n\u001b[1;32m    246\u001b[0m             raise ValueError(\"x and y can be no greater than 2-D, but have \"\n",
      "\u001b[0;31mValueError\u001b[0m: x and y must have same first dimension, but have shapes (267,) and (1, 267)"
     ]
    },
    {
     "data": {
      "image/png": "[encoded data removed]",
      "text/plain": [
       "<matplotlib.figure.Figure at 0x111065d10>"
      ]
     },
     "metadata": {},
     "output_type": "display_data"
    }
   ],
   "source": [
    "#multi forcing single parameter set run through\n",
    "\n",
    "#import piers data for total anthro RF\n",
    "rf_anthro_piers = np.loadtxt(\"rf_a_reord.txt\")\n",
    "rf_anthro_piers = rf_anthro_piers.reshape((200,267))\n",
    "\n",
    "C = forcing_to_conc(rf_anthro_piers)\n",
    "\n",
    "for i in range(C.shape[0]):\n",
    "    plt.plot(np.arange(1750,2017), C[i,:], linewidth = 0.1, color = 'royalblue')\n",
    "    \n",
    "C_median = forcing_to_conc(rf_anthro_piers[90,:])\n",
    "\n",
    "plt.plot(np.arange(1750,2017), C_median, color = 'red', linewidth = 2)"
   ]
  },
  {
   "cell_type": "code",
   "execution_count": 6,
   "metadata": {
    "collapsed": false
   },
   "outputs": [],
   "source": [
    "from scipy.optimize import root\n",
    "import scipy.ndimage.filters as filters1\n",
    "\n",
    "def iirf100_interp_funct(alpha,a,tau,targ_iirf100):\n",
    "    iirf100_arr = alpha*(np.sum(a*tau*(1.0 - np.exp(-100.0/(tau*alpha)))))\n",
    "    return iirf100_arr   -  targ_iirf100\n",
    "\n",
    "def iirf100_interp_funct_multi_rf(alpha,a,tau,targ_iirf100):\n",
    "    iirf100_arr = alpha*(np.sum((a*tau*(1.0 - np.exp(-100.0/(tau*alpha[:,np.newaxis])))),axis=1))\n",
    "    return iirf100_arr   -  targ_iirf100\n",
    "\n",
    "# Define function which does inversion of carbon dioxide concentration to emissions of carbon\n",
    "def conc_to_emissions(co2_conc, T,\n",
    "              input_params=np.array([1000000,381.330,34.7850,4.12370,0.21787,0.22896,0.28454,0.26863,0.471,32.40,0.019,4.165,97.,278]),\n",
    "              in_state=np.array([0.0,0.0,0.0,0.0,0.0,0.0,0.0])):\n",
    "    \n",
    "    if input_params.ndim==1:\n",
    "        p_dims = 1\n",
    "        input_params = input_params[np.newaxis]\n",
    "    else:\n",
    "        p_dims = input_params.shape[0]\n",
    "    \n",
    "                        \n",
    "    t_const = input_params[...,0:4]\n",
    "    pool_splits = input_params[...,4:8]\n",
    "    GtC_2_ppmv = input_params[...,8]\n",
    "    r0 = input_params[...,9]\n",
    "    rC = input_params[...,10]\n",
    "    rT = input_params[...,11]\n",
    "    iirf100_max = input_params[...,12]\n",
    "    Cpreind = input_params[...,13]\n",
    "    year_smoothing = 5\n",
    "    tstep = 1.0\n",
    "    \n",
    "   # PARAMETERS #\n",
    "    # co2_conc = inputted co2 forcing equivalent concentration profile\n",
    "    # T_input = inputted temperature profile for given concentration profile\n",
    "    # t_const = time constants for the different carbon pools\n",
    "    # pool_splits = how a unit mass of carbon is split between the pools\n",
    "    # r0 = 100-year integrated airborne fraction (iIRF100) in the initial equilibrium climate for an infinintesimal pulse\n",
    "    # rC = sensitivity of iIRF100 to cumulative land-ocean carbon uptake, in years/GtC\n",
    "    # rT = temperature sensitivity of iIRF100 in years/K\n",
    "    # iirf100_max = maximum value of the iIRF100 we can calculate (saturates at this value if found to be above)\n",
    "    # Cpreind = pre-industrial CO2 concentration\n",
    "    # tstep = timestep between interations of code. Default = 1 yr, never tried for other\n",
    "    # in_state = input state of the different vectors being calcualted\n",
    "    \n",
    "   #NOTE: Myles parameters set:\n",
    "    #t_const = np.array([1.e8,381.330,34.7850,4.12370])\n",
    "    #pool_splits = np.array([0.21787,0.22896,0.28454,0.26863])\n",
    "    #r0 = 35.\n",
    "    #rC = 0.02\n",
    "    #rT = 4.5\n",
    "    #iirf100_max = 95.\n",
    "    \n",
    "    # --- SET UP OUTPUT TIMESERIES VARIABLES --- #\n",
    "    if T.ndim == 2:\n",
    "        T = T[:,np.newaxis,:]\n",
    "    \n",
    "   #initialize the carbon pools, emissions, accumulated carbon and iIRF100 vectors. \n",
    "    #Give an intial guess of alpha for root function to work from.\n",
    "    rf_dims = T.shape[0]\n",
    "    integ_len = T.shape[2]\n",
    "    C_comp = np.zeros((T.shape[0],T.shape[1],T.shape[2], 4))\n",
    "    E = np.zeros(T.shape)\n",
    "    E_smooth = np.zeros(T.shape)\n",
    "    C_acc = np.zeros(T.shape)\n",
    "    iirf100 = np.zeros(T.shape)\n",
    "    alph_t = np.zeros(T.shape)\n",
    "    \n",
    "   ###---------FIRST TIMESTEP----------\n",
    "    #set the initial values of key parameters as the in_state values, default = zeros.\n",
    "    C_comp_pre = in_state[...,0:4]\n",
    "    C_pre = np.sum(C_comp_pre) + Cpreind\n",
    "    T_j_pre = in_state[...,4:6]\n",
    "    C_acc_pre = in_state[...,6]\n",
    "\n",
    "    # Calculate the parametrised iIRF100 and check if it is over the maximum allowed value\n",
    "    iirf100[...,0] = r0 + rC*C_acc[...,0] + rT*T[...,0]\n",
    "    for i in range(0,rf_dims):\n",
    "        for j in range(0,p_dims):\n",
    "            if iirf100[i,j,0] >= iirf100_max[j]:\n",
    "                iirf100[i,j,0] = iirf100_max[j]\n",
    "    \n",
    "    #find the value of alpha\n",
    "    if rf_dims == 1:\n",
    "        for j in range(0,p_dims):\n",
    "            alph_t[0,j,0] = (root(iirf100_interp_funct,0.16,args=(pool_splits[j],t_const[j],iirf100[0,j,0])))['x']\n",
    "    else:\n",
    "        for i in range(0,rf_dims):\n",
    "            alph_t[i,:,0] = (root(iirf100_interp_funct_multi_rf,0.16,args=(pool_splits,t_const,iirf100[i,:,0])))['x']\n",
    "        \n",
    "    #compute the carbon in each pool\n",
    "    C_comp[...,0,:] = C_comp_pre*np.exp((-tstep)/(alph_t[...,0,np.newaxis]*t_const))\n",
    "    \n",
    "    #compute the emissions required to give change in CO2 concentration\n",
    "    E[...,0] = (co2_conc[...,0] - np.sum(C_comp[...,0,:],-1) - C_pre) / (alph_t[...,0]*np.sum(pool_splits*t_const*(1-np.exp((-tstep)/(alph_t[...,0,np.newaxis]*t_const))),-1)*GtC_2_ppmv)\n",
    "    \n",
    "    #recompute the distribution of carbon in each pool for better estimation of emissions in next timestep\n",
    "    C_comp[...,0,:] = C_comp[...,0,:] + alph_t[...,0,np.newaxis]*pool_splits*t_const*E[...,0,np.newaxis]*GtC_2_ppmv*(1-np.exp((-tstep)/(alph_t[...,0,np.newaxis]*t_const)))\n",
    "    \n",
    "    #calculate the accumulated carbon in the land and oceans\n",
    "    C_acc[...,0] =  C_acc_pre + E[...,0]*tstep - ((co2_conc[...,0]-C_pre)/GtC_2_ppmv)\n",
    "    \n",
    "   ###----------REST OF RUN-------------\n",
    "    for x in range(1, integ_len):\n",
    "        #estimate the value of iIRF100, given the temperature and accumulated carbon in previous timestep\n",
    "        iirf100[...,x] = r0 + rC*C_acc[...,(x-1)] + rT*T[...,(x-1)]\n",
    "        for i in range(0,rf_dims):\n",
    "            for j in range(0,p_dims):\n",
    "                if iirf100[i,j,x] >= iirf100_max[j]:\n",
    "                    iirf100[i,j,x] = iirf100_max[j]\n",
    "        \n",
    "        #calculate the value of alpha using scipys root finder\n",
    "        if rf_dims == 1:\n",
    "            for j in range(0,p_dims):\n",
    "                alph_t[0,j,x] = (root(iirf100_interp_funct,alph_t[0,j,x-1],args=(pool_splits[j],t_const[j],iirf100[0,j,x])))['x']\n",
    "        else:\n",
    "            for i in range(0,rf_dims):\n",
    "                alph_t[i,:,x] = (root(iirf100_interp_funct_multi_rf,alph_t[i,:,x-1],args=(pool_splits,t_const,iirf100[i,:,x])))['x']\n",
    "        \n",
    "        #compute the distribution of carbon between the pools\n",
    "        C_comp[...,x,:] = C_comp[...,x-1,:]*np.exp((-tstep)/(alph_t[...,x,np.newaxis]*t_const))\n",
    "        \n",
    "        #calculate the emissions required in this year to cause change in CO2 concentration\n",
    "        E[...,x] = (co2_conc[...,x] - np.sum(C_comp[...,0,:],-1) - C_pre) / (alph_t[...,x]*np.sum(pool_splits*t_const*(1-np.exp((-tstep)/(alph_t[...,x,np.newaxis]*t_const))))*GtC_2_ppmv)\n",
    "        \n",
    "        #recalculate the distribution of carbon in each pool for better estimation in next timestep\n",
    "        C_comp[...,x,:] = C_comp[...,x,:] + alph_t[...,x,np.newaxis]*pool_splits*t_const*E[...,x,np.newaxis]*GtC_2_ppmv*(1-np.exp((-tstep)/(alph_t[...,x,np.newaxis]*t_const)))\n",
    "        \n",
    "        #calculate the accumulated carbon in the land and sea\n",
    "        C_acc[...,x] =  C_acc[...,x-1] + E[...,x]*tstep - ((co2_conc[...,x]-C_pre)/GtC_2_ppmv)\n",
    "        \n",
    "   ###----------------------------------\n",
    "   \n",
    "    # We apply a gaussian filter to smooth the resulting curve\n",
    "    for j in range(0, p_dims):\n",
    "        for i in range(0, rf_dims):\n",
    "            E_smooth[i,j,:] = filters1.gaussian_filter1d(E[i,j,:], year_smoothing)\n",
    "    \n",
    "    return E, E_smooth"
   ]
  },
  {
   "cell_type": "code",
   "execution_count": 7,
   "metadata": {
    "collapsed": false
   },
   "outputs": [],
   "source": [
    "import forward"
   ]
  },
  {
   "cell_type": "code",
   "execution_count": 8,
   "metadata": {
    "collapsed": false
   },
   "outputs": [
    {
     "name": "stdout",
     "output_type": "stream",
     "text": [
      "---------- Run time was 0 minutes and 13 seconds ----------\n"
     ]
    }
   ],
   "source": [
    "# Set emissions to zero\n",
    "emissions = np.zeros(rf_anthro_piers.shape[1])\n",
    "\n",
    "C1,T = forward.fair_scm(emissions=emissions,other_rf=rf_anthro_piers)"
   ]
  },
  {
   "cell_type": "code",
   "execution_count": 9,
   "metadata": {
    "collapsed": false
   },
   "outputs": [
    {
     "name": "stdout",
     "output_type": "stream",
     "text": [
      "(200, 267)\n"
     ]
    }
   ],
   "source": [
    "print T.shape"
   ]
  },
  {
   "cell_type": "code",
   "execution_count": 10,
   "metadata": {
    "collapsed": false
   },
   "outputs": [
    {
     "name": "stderr",
     "output_type": "stream",
     "text": [
      "/Users/Stuart/anaconda/lib/python2.7/site-packages/ipykernel/__main__.py:9: RuntimeWarning: overflow encountered in exp\n",
      "/Users/Stuart/anaconda/lib/python2.7/site-packages/ipykernel/__main__.py:9: RuntimeWarning: overflow encountered in multiply\n"
     ]
    }
   ],
   "source": [
    "E, E_smooth = conc_to_emissions(C, T)"
   ]
  },
  {
   "cell_type": "code",
   "execution_count": 11,
   "metadata": {
    "collapsed": false
   },
   "outputs": [
    {
     "data": {
      "text/plain": [
       "[<matplotlib.lines.Line2D at 0x115277bd0>]"
      ]
     },
     "execution_count": 11,
     "metadata": {},
     "output_type": "execute_result"
    },
    {
     "data": {
      "image/png": "[encoded data removed]",
      "text/plain": [
       "<matplotlib.figure.Figure at 0x1111cf650>"
      ]
     },
     "metadata": {},
     "output_type": "display_data"
    }
   ],
   "source": [
    "plt.plot(E_smooth[10,0])"
   ]
  },
  {
   "cell_type": "code",
   "execution_count": null,
   "metadata": {
    "collapsed": true
   },
   "outputs": [],
   "source": []
  }
 ],
 "metadata": {
  "kernelspec": {
   "display_name": "Python 2",
   "language": "python",
   "name": "python2"
  },
  "language_info": {
   "codemirror_mode": {
    "name": "ipython",
    "version": 2
   },
   "file_extension": ".py",
   "mimetype": "text/x-python",
   "name": "python",
   "nbconvert_exporter": "python",
   "pygments_lexer": "ipython2",
   "version": "2.7.13"
  }
 },
 "nbformat": 4,
 "nbformat_minor": 2
}
