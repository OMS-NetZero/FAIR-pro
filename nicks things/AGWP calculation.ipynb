{
 "cells": [
  {
   "cell_type": "code",
   "execution_count": 2,
   "metadata": {
    "collapsed": false
   },
   "outputs": [
    {
     "data": {
      "text/plain": [
       "'1.0.1'"
      ]
     },
     "execution_count": 2,
     "metadata": {},
     "output_type": "execute_result"
    }
   ],
   "source": [
    "import numpy as np\n",
    "\n",
    "%matplotlib inline\n",
    "from matplotlib import pyplot as plt\n",
    "plt.style.use('seaborn-darkgrid')\n",
    "plt.rcParams['figure.figsize'] = 16, 9\n",
    "plt.rcParams['lines.linewidth'] = 1.5\n",
    "\n",
    "font = {'weight' : 'normal',\n",
    "      'size'   : 12}\n",
    "\n",
    "plt.rc('font', **font)\n",
    "\n",
    "import fair\n",
    "fair.__version__"
   ]
  },
  {
   "cell_type": "code",
   "execution_count": 3,
   "metadata": {
    "collapsed": false
   },
   "outputs": [
    {
     "name": "stdout",
     "output_type": "stream",
     "text": [
      "85.4056030804\n",
      "30.7830441494\n",
      "313.073326596\n",
      "345.572562939\n"
     ]
    }
   ],
   "source": [
    "emissions = np.zeros(500)\n",
    "emissions[0] = 1/3.67 #this represents 1 Gt of CO2 released as a pulse\n",
    "other_rf=np.zeros(500)\n",
    "\n",
    "C,T,RF = fair.forward.fair_scm(emissions=emissions,other_rf=other_rf)\n",
    "RFCO2 = RF\n",
    "\n",
    "M_emissions = np.zeros(500)\n",
    "M_emissions[0]=1000.0\n",
    "\n",
    "C,T,RF = fair.forward.fair_scm(emissions=np.zeros(500),M_emissions=M_emissions,other_rf=other_rf)\n",
    "RFCH4 = RF\n",
    "\n",
    "N_emissions = np.zeros(500)\n",
    "N_emissions[0]=1000.0\n",
    "\n",
    "C,T,RF = fair.forward.fair_scm(emissions=np.zeros(500),N_emissions=N_emissions,other_rf=other_rf)\n",
    "RFN2O = RF\n",
    "#fig,ax1,ax2,ax3,ax4 = fair.forward.plot_fair(emissions,C,other_rf,T,tuts='yrs')\n",
    "#fig.tight_layout()\n",
    "\n",
    "#fig2 = plt.figure(figsize=(16,8))\n",
    "#plt.plot(RF)\n",
    "\n",
    "#AGWP Calc\n",
    "from scipy.integrate import simps as numint\n",
    "\n",
    "AGWPCO2 = np.zeros(500)\n",
    "AGWPCH4 = np.zeros(500)\n",
    "AGWPN2O = np.zeros(500)\n",
    "\n",
    "for i in range(1,500):\n",
    "    AGWPCO2[i]= numint(RFCO2[:i])\n",
    "    AGWPCH4[i]= numint(RFCH4[:i])\n",
    "    AGWPN2O[i]= numint(RFN2O[:i])\n",
    "    \n",
    "GWPCH4100 = AGWPCH4[100]/AGWPCO2[100]\n",
    "GWPN2O100 = AGWPN2O[100]/AGWPCO2[100]\n",
    "GWPCH420 = AGWPCH4[20]/AGWPCO2[20]\n",
    "GWPN2O20 = AGWPN2O[20]/AGWPCO2[20]\n",
    "\n",
    "print GWPCH420\n",
    "print GWPCH4100\n",
    "print GWPN2O20\n",
    "print GWPN2O100"
   ]
  },
  {
   "cell_type": "code",
   "execution_count": null,
   "metadata": {
    "collapsed": true
   },
   "outputs": [],
   "source": []
  }
 ],
 "metadata": {
  "kernelspec": {
   "display_name": "Python 2",
   "language": "python",
   "name": "python2"
  }
 },
 "nbformat": 4,
 "nbformat_minor": 2
}
